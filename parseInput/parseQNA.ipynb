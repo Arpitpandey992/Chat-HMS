{
 "cells": [
  {
   "cell_type": "code",
   "execution_count": 1,
   "metadata": {},
   "outputs": [],
   "source": [
    "with open('input.txt', 'r') as f:\n",
    "    with open('out.txt', 'w') as out:\n",
    "        for line in f:\n",
    "            if( line.startswith('##') and not line.startswith('###')) or line == '\\n':\n",
    "                continue\n",
    "            out.write(line)"
   ]
  },
  {
   "cell_type": "code",
   "execution_count": null,
   "metadata": {},
   "outputs": [],
   "source": [
    "questions = []\n",
    "answers = []\n",
    "currentAnswer = ''\n",
    "with open('out.txt', 'r') as f:\n",
    "    for line in f:\n",
    "        if line.startswith('###'): #question\n",
    "            questions.append(line[4:])\n",
    "            if currentAnswer!='':\n",
    "                answers.append(currentAnswer)\n",
    "            currentAnswer = ''\n",
    "        else:\n",
    "            print(line)\n",
    "            currentAnswer+=line\n",
    "    if currentAnswer!='':\n",
    "        answers.append(currentAnswer)"
   ]
  },
  {
   "cell_type": "code",
   "execution_count": null,
   "metadata": {},
   "outputs": [],
   "source": [
    "print(len(questions), len(answers))\n",
    "for i in range(len(answers)):\n",
    "    print('Q:'+questions[i])\n",
    "    print(answers[i], end='\\n\\n\\n')"
   ]
  },
  {
   "cell_type": "code",
   "execution_count": null,
   "metadata": {},
   "outputs": [],
   "source": [
    "import jsonlines\n",
    "jsons = []\n",
    "for i in range(len(questions)):\n",
    "    jsons.append({\n",
    "        'prompt' : questions[i],\n",
    "        'completion' : answers[i]\n",
    "    })\n",
    "print(jsons)\n",
    "with jsonlines.open('output.jsonl', 'w') as writer:\n",
    "    writer.write_all(jsons)\n"
   ]
  },
  {
   "cell_type": "code",
   "execution_count": null,
   "metadata": {},
   "outputs": [],
   "source": [
    "import mistletoe\n",
    "from mistletoe.latex_renderer import LaTeXRenderer\n",
    "with open('faq.md', 'r') as f:\n",
    "    output = mistletoe.markdown(f,LaTeXRenderer)\n",
    "    print(output)"
   ]
  }
 ],
 "metadata": {
  "kernelspec": {
   "display_name": "Python 3",
   "language": "python",
   "name": "python3"
  },
  "language_info": {
   "codemirror_mode": {
    "name": "ipython",
    "version": 3
   },
   "file_extension": ".py",
   "mimetype": "text/x-python",
   "name": "python",
   "nbconvert_exporter": "python",
   "pygments_lexer": "ipython3",
   "version": "3.10.9"
  },
  "orig_nbformat": 4,
  "vscode": {
   "interpreter": {
    "hash": "e7370f93d1d0cde622a1f8e1c04877d8463912d04d973331ad4851f04de6915a"
   }
  }
 },
 "nbformat": 4,
 "nbformat_minor": 2
}
